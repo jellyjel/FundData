{
  "nbformat": 4,
  "nbformat_minor": 0,
  "metadata": {
    "colab": {
      "name": "Automation_samsung_sec_calendar.ipynb",
      "provenance": [],
      "private_outputs": true,
      "collapsed_sections": [],
      "machine_shape": "hm",
      "include_colab_link": true
    },
    "kernelspec": {
      "name": "python3",
      "display_name": "Python 3"
    }
  },
  "cells": [
    {
      "cell_type": "markdown",
      "metadata": {
        "id": "view-in-github",
        "colab_type": "text"
      },
      "source": [
        "<a href=\"https://colab.research.google.com/github/jellyjel/FundData/blob/master/Automation_samsung_sec_calendar.ipynb\" target=\"_parent\"><img src=\"https://colab.research.google.com/assets/colab-badge.svg\" alt=\"Open In Colab\"/></a>"
      ]
    },
    {
      "cell_type": "markdown",
      "metadata": {
        "id": "UP99dnpD6yPY",
        "colab_type": "text"
      },
      "source": [
        "삼성증권 주간 캘린더 일정 크롤링"
      ]
    },
    {
      "cell_type": "code",
      "metadata": {
        "id": "z9n6dkz-VAsh",
        "colab_type": "code",
        "colab": {}
      },
      "source": [
        "#2019년부터 현재까지 주간date정의\n",
        "from datetime import date,timedelta\n",
        "import requests\n",
        "from bs4 import BeautifulSoup\n",
        "import pandas as pd\n",
        "import re\n",
        "from pprint import pprint\n",
        "\n",
        "date_range=[]\n",
        "year = 2018\n",
        "date_object = date(year, 12, 30)\n",
        "date_object += timedelta(days=1-date_object.isoweekday())\n",
        "end_date = date.today()\n",
        "\n",
        "while date_object<end_date:\n",
        "    #print(date_object)\n",
        "    date_object += timedelta(days=7)\n",
        "    date_range.append(date_object.strftime('%Y%m%d') )\n",
        "\n",
        "\n",
        "\n",
        "#reqeusts 라이브러리로 HTML 페이지 요청 \n",
        "\n",
        "\n",
        "headers = {\n",
        "\n",
        "    'Connection': 'keep-alive',\n",
        "    'Accept': 'application/json, text/javascript, */*; q=0.01',\n",
        "    'Content-Type': 'application/x-www-form-urlencoded; charset=UTF-8',\n",
        "    'Accept-Encoding': 'gzip, deflate, br',\n",
        "    'Accept-Language': 'ko-KR,ko;q=0.9,en-US;q=0.8,en;q=0.7',\n",
        "    'Content-Length': '233',\n",
        "    'Cookie': 'expireCheck=1; __smVisitorID=-f07uxRURIJ; _ga=GA1.2.1438619917.1585096189; _gid=GA1.2.493165057.1585096189; ins-panel=1; ins-gaSSId=ec8ab376-9b85-00b4-6f38-50457e47eeeb_1585096189; JSESSIONID=LLm0TaBVH08raYASToviT1ByW62EticufDaL3zHDCOQtIg6r4CO5VG58QoHHiNfc.cG9wX2RvbWFpbi9wb3BfSGZuTmszMg==; insdrSV=9',\n",
        "    'Host': 'www.samsungpop.com',\n",
        "    'Origin': 'https://www.samsungpop.com',\n",
        "    'Referer': 'https://www.samsungpop.com/ux/kor/invest/issue/week.do',\n",
        "    'Sec-Fetch-Dest': 'empty',\n",
        "    'Sec-Fetch-Mode': 'cors',\n",
        "    'Sec-Fetch-Site': 'same-origin',\n",
        "    'User-Agent': 'Mozilla/5.0 (Windows NT 10.0; Win64; x64) AppleWebKit/537.36 (KHTML, like Gecko) Chrome/80.0.3987.132 Safari/537.36',\n",
        "    'X-Requested-With': 'XMLHttpRequest'\n",
        "\n",
        "}\n",
        "\n",
        "df_append = pd.DataFrame(columns = ['date','events'])\n",
        "for i in range(0,len(date_range)):\n",
        "  data = {\n",
        "  'TYPE': 'MONTH',\n",
        "  'P_ItemCd12':'', \n",
        "  'check': '001,012,002,003,004,005,006,007,011,008,010,009',\n",
        "  'P_FullSect': '1',\n",
        "  'SearchText':'', \n",
        "  'P_ItemCd12Text': '',\n",
        "  'P_Filler3': '009',\n",
        "  'DATE':date_range[i],\n",
        "  #'end': 'end_date',\n",
        "  'A_Period1': '2',\n",
        "  'P_PrntNumber': '015',\n",
        "  'A_ProcSectCd': '1',\n",
        "  'P_KeyWord':'', \n",
        "  'af_auto_index': 'start',\n",
        "  #'YEAR': '2020',\n",
        "  #'MONTH': '3',\n",
        "  'ajaxQuery': '1',\n",
        "\n",
        "  }\n",
        " \n",
        "\n",
        "\n",
        "\n",
        "  response = requests.post('https://www.samsungpop.com/ux/kor/invest/issue/weekData.do', headers=headers, data=data, verify=False)\n",
        "\n",
        "  soup = BeautifulSoup(response.content, 'html.parser')\n",
        "  divs = soup.find_all('div')\n",
        "\n",
        "  list_ = []\n",
        "  dictionary_ = {}\n",
        "  numOfdivs = 0\n",
        "\n",
        "  for div in divs:\n",
        "       numOfdivs = numOfdivs + 1\n",
        "       keys = div.find_all('b')[0]\n",
        "       lines = [line.get_text() for line in div.find_all('span', {'class' : ''})]\n",
        "       dictionary_[keys] = lines\n",
        "\n",
        "   # Adding elements from dict2 to dict1\n",
        "  dictionary_.update(dictionary_ )\n",
        "  #print(dictionary_)\n",
        "  df = pd.DataFrame(list(dictionary_.items()),columns = ['date','events']) \n",
        "  print(df)\n",
        "  #df_append = pd.DataFrame(columns = ['date','events'])\n",
        "  df_append = df_append.append(df, True)\n",
        "  #print(df_append)\n",
        "  #x = '삼성증권주간캘린더_{}.csv'.format(date_range[i])\n",
        "\n",
        "df_append['구분'] = '국내외휴장'\n",
        "df_append.to_csv('삼성증권주간캘린더_국내외휴장.csv', index=False)"
      ],
      "execution_count": 0,
      "outputs": []
    },
    {
      "cell_type": "code",
      "metadata": {
        "id": "fHPjbUF9Cnyn",
        "colab_type": "code",
        "colab": {}
      },
      "source": [
        "#df_009 = df_append\n",
        "df_010['연월일'] = pd.date_range(start='31/12/2018', periods=len(df_009), freq='D')\n",
        "#df_009\n",
        "#df_009.to_csv('df009.csv', index=True)"
      ],
      "execution_count": 0,
      "outputs": []
    },
    {
      "cell_type": "code",
      "metadata": {
        "id": "OmH80NjfFRkN",
        "colab_type": "code",
        "colab": {}
      },
      "source": [
        "#'001,012,002,003,004,005,006,007,011,008,010,009',\n",
        "frames = [df_001,df_012,df_002,df_003,df_004,df_005,df_006,df_007,df_011,df_008,df_010,df_009]\n",
        "result = pd.concat(frames)\n"
      ],
      "execution_count": 0,
      "outputs": []
    },
    {
      "cell_type": "code",
      "metadata": {
        "id": "Ioe8ZCcz3Cxw",
        "colab_type": "code",
        "colab": {}
      },
      "source": [
        "from google.colab import drive\n",
        "drive.mount('/content/drive')"
      ],
      "execution_count": 0,
      "outputs": []
    },
    {
      "cell_type": "code",
      "metadata": {
        "id": "cvcXVoTGK_kj",
        "colab_type": "code",
        "colab": {}
      },
      "source": [
        "result.to_csv('result.csv', index=True)"
      ],
      "execution_count": 0,
      "outputs": []
    }
  ]
}